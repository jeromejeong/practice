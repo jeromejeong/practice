{
 "cells": [
  {
   "cell_type": "code",
   "execution_count": 51,
   "metadata": {},
   "outputs": [
    {
     "name": "stdout",
     "output_type": "stream",
     "text": [
      "가로= 720   세로= 405   채널= 3\n",
      "5등분 하면 가로/세로= 144 / 81\n"
     ]
    },
    {
     "data": {
      "text/plain": [
       "-1"
      ]
     },
     "execution_count": 51,
     "metadata": {},
     "output_type": "execute_result"
    }
   ],
   "source": [
    "import cv2\n",
    "import numpy as np\n",
    "\n",
    "#이미지 경로\n",
    "image=cv2.imread(\"trump.jpg\") #배열로 구성, (세로, 가로, 채널)\n",
    "\n",
    "#이미지 정보 출력\n",
    "wsize=image.shape[1]\n",
    "hsize=image.shape[0]\n",
    "print(\"가로=\",wsize,\" \",\"세로=\",hsize,\" \", \"채널=\",image.shape[2])\n",
    "\n",
    "divwsize=wsize//5\n",
    "divhsize=hsize//5\n",
    "print(\"5등분 하면 가로/세로=\",divwsize,\"/\", divhsize)\n",
    "\n",
    "simage=cv2.resize(image,dsize=(divwsize,divhsize),interpolation=cv2.INTER_AREA)\n",
    "\n",
    "\n",
    "#흑백으로 전환\n",
    "grayimage=cv2.cvtColor(simage, cv2.COLOR_BGR2GRAY)\n",
    "\n",
    "#4가지색\n",
    "black=(0,0,0)\n",
    "white=(255,255,255)\n",
    "yellow=(102,255,255)\n",
    "gray=(178,178,178)\n",
    "\n",
    "#4가지 색으로 픽셀 전환\n",
    "for i in range(divhsize):\n",
    "    for j in range(divwsize):\n",
    "        if grayimage[i,j]<60:\n",
    "            simage[i,j]=black\n",
    "        elif grayimage[i,j]<120:\n",
    "            simage[i,j]=gray\n",
    "        elif grayimage[i,j]<180:\n",
    "            simage[i,j]=yellow\n",
    "        else:\n",
    "            simage[i,j]=white\n",
    "\n",
    "#이미지 키우기\n",
    "againbigimage=cv2.resize(simage,dsize=(wsize,hsize),interpolation=cv2.INTER_AREA)            \n",
    "\n",
    "cv2.imshow(\"zzazan0\",image)\n",
    "cv2.imshow(\"zzazan1\",simage)\n",
    "cv2.imshow(\"zzazan2\",againbigimage)\n",
    "cv2.imshow(\"zzaazn3\",grayimage)\n",
    "cv2.waitKey(0)\n"
   ]
  }
 ],
 "metadata": {
  "kernelspec": {
   "display_name": "Python 3",
   "language": "python",
   "name": "python3"
  },
  "language_info": {
   "codemirror_mode": {
    "name": "ipython",
    "version": 3
   },
   "file_extension": ".py",
   "mimetype": "text/x-python",
   "name": "python",
   "nbconvert_exporter": "python",
   "pygments_lexer": "ipython3",
   "version": "3.7.6"
  }
 },
 "nbformat": 4,
 "nbformat_minor": 4
}
