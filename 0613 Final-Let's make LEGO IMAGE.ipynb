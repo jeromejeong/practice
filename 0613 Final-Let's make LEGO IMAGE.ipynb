{
 "cells": [
  {
   "cell_type": "code",
   "execution_count": 20,
   "metadata": {},
   "outputs": [
    {
     "name": "stdout",
     "output_type": "stream",
     "text": [
      "가로= 960   세로= 540   채널= 3\n",
      "10 등분 하면 가로/세로= 96 / 54\n",
      "63\n",
      "[126 126 126]\n",
      "1.0078127374981\n"
     ]
    },
    {
     "data": {
      "text/plain": [
       "-1"
      ]
     },
     "execution_count": 20,
     "metadata": {},
     "output_type": "execute_result"
    }
   ],
   "source": [
    "import cv2\n",
    "import numpy as np\n",
    "\n",
    "def truncate(value):\n",
    "    if value < 0:\n",
    "        value=0\n",
    "    elif value > 255:\n",
    "        value=255\n",
    "    return value\n",
    "\n",
    "\n",
    "#이미지 경로\n",
    "image=cv2.imread(\"ring.jpg\") #배열로 구성, (세로, 가로, 채널)\n",
    "\n",
    "#이미지 정보 출력\n",
    "wsize=image.shape[1]\n",
    "hsize=image.shape[0]\n",
    "print(\"가로=\",wsize,\" \",\"세로=\",hsize,\" \", \"채널=\",image.shape[2])\n",
    "\n",
    "#이미지 줄이기\n",
    "n=10\n",
    "divwsize=wsize//n\n",
    "divhsize=hsize//n\n",
    "print(n,\"등분 하면 가로/세로=\",divwsize,\"/\", divhsize)\n",
    "\n",
    "simage=cv2.resize(image,dsize=(divwsize,divhsize),interpolation=cv2.INTER_AREA)\n",
    "print(simage[10][1][0])\n",
    "newsimage=np.array(simage)\n",
    "print(newsimage[10,1]*2)\n",
    "\n",
    "\n",
    "#콘트라스트 주기\n",
    "\n",
    "contrast=1\n",
    "factor = (259*(contrast+255))/ (255*(259-contrast))\n",
    "print(factor)\n",
    "\n",
    "for i in range(divhsize):\n",
    "    for j in range(divwsize):\n",
    "        for k in range(3):\n",
    "            newsimage[i,j,k]=truncate(factor*(simage[i,j,k]-128)+128)\n",
    "                    \n",
    "\n",
    "#흑백으로 전환\n",
    "grayimage=cv2.cvtColor(newsimage, cv2.COLOR_BGR2GRAY)\n",
    "\n",
    "#5가지색\n",
    "black=(0,0,0)\n",
    "white=(255,255,255)\n",
    "yellow=(0,230,235)\n",
    "darkgray=(100,100,100)\n",
    "gray=(200,200,200)\n",
    "\n",
    "#4가지 색으로 픽셀 전환\n",
    "for i in range(divhsize):\n",
    "    for j in range(divwsize):\n",
    "        if grayimage[i,j]<60:\n",
    "            simage[i,j]=black\n",
    "        elif grayimage[i,j]<110:\n",
    "            simage[i,j]=darkgray\n",
    "        elif grayimage[i,j]<160:\n",
    "            simage[i,j]=gray\n",
    "        elif grayimage[i,j]<230:\n",
    "            simage[i,j]=white\n",
    "        else:\n",
    "            simage[i,j]=yellow\n",
    "\n",
    "#이미지 키우기\n",
    "againbigimage=cv2.resize(simage,dsize=(wsize,hsize),interpolation=cv2.INTER_AREA)            \n",
    "\n",
    "#cv2.imshow(\"zzazan0\",image)\n",
    "#cv2.imshow(\"zzazan1\",simage)\n",
    "cv2.imshow(\"zzazan2\",againbigimage)\n",
    "#cv2.imshow(\"zzazan3\",grayimage)\n",
    "cv2.imshow(\"zzazan4\",newsimage)\n",
    "cv2.waitKey(0)\n"
   ]
  }
 ],
 "metadata": {
  "kernelspec": {
   "display_name": "Python 3",
   "language": "python",
   "name": "python3"
  },
  "language_info": {
   "codemirror_mode": {
    "name": "ipython",
    "version": 3
   },
   "file_extension": ".py",
   "mimetype": "text/x-python",
   "name": "python",
   "nbconvert_exporter": "python",
   "pygments_lexer": "ipython3",
   "version": "3.7.6"
  }
 },
 "nbformat": 4,
 "nbformat_minor": 4
}
