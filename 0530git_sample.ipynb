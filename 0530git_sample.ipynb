{
 "cells": [
  {
   "cell_type": "code",
   "execution_count": 19,
   "metadata": {},
   "outputs": [],
   "source": [
    "import cv2\n",
    "\n",
    "img_source = \"trump.jpg\"\n",
    "\n",
    "img = cv2.imread(img_source)\n",
    "\n",
    "cv2.imshow('OMG',img)\n",
    "cv2.waitKey()\n",
    "cv2.destroyAllWindows()"
   ]
  },
  {
   "cell_type": "code",
   "execution_count": 22,
   "metadata": {},
   "outputs": [
    {
     "name": "stderr",
     "output_type": "stream",
     "text": [
      "  % Total    % Received % Xferd  Average Speed   Time    Time     Time  Current\n",
      "                                 Dload  Upload   Total   Spent    Left  Speed\n",
      "\n",
      "  0     0    0     0    0     0      0      0 --:--:-- --:--:-- --:--:--     0\n",
      "  0     0    0     0    0     0      0      0 --:--:-- --:--:-- --:--:--     0\n",
      "  1  908k    1 13710    0     0  11387      0  0:01:21  0:00:01  0:01:20 11387\n",
      " 62  908k   62  565k    0     0   255k      0  0:00:03  0:00:02  0:00:01  255k\n",
      "100  908k  100  908k    0     0   343k      0  0:00:02  0:00:02 --:--:--  343k\n"
     ]
    }
   ],
   "source": [
    "!curl -L -o ./haarcascade_frontalface_default.xml https://raw.githubusercontent.com/opencv/opencv/master/data/haarcascades/haarcascade_frontalface_default.xml"
   ]
  },
  {
   "cell_type": "code",
   "execution_count": 23,
   "metadata": {},
   "outputs": [],
   "source": [
    "import cv2\n",
    "\n",
    "faceCascade = cv2.CascadeClassifier(\"haarcascade_frontalface_default.xml\")\n",
    "\n",
    "img_source = \"trump.jpg\"\n",
    "\n",
    "img = cv2.imread(img_source)\n",
    "\n",
    "gray = cv2.cvtColor(img, cv2.COLOR_BGR2GRAY)\n",
    "\n",
    "faces = faceCascade.detectMultiScale(\n",
    "        gray,\n",
    "        scaleFactor=1.1,\n",
    "        minNeighbors=5,\n",
    "        minSize=(30, 30),\n",
    ")\n",
    "\n",
    "for (x, y, w, h) in faces:\n",
    "        cv2.rectangle(img, (x, y), (x+w, y+h), (0, 255, 0), 2)\n",
    "\n",
    "cv2.imshow('OMG',img)\n",
    "cv2.waitKey()\n",
    "cv2.destroyAllWindows()"
   ]
  },
  {
   "cell_type": "code",
   "execution_count": 60,
   "metadata": {},
   "outputs": [],
   "source": [
    "import cv2\n",
    "\n",
    "faceCascade = cv2.CascadeClassifier(\"haarcascade_frontalface_default.xml\")\n",
    "\n",
    "video_capture = cv2.VideoCapture(0)\n",
    "\n",
    "\n",
    "while True:\n",
    "    # Capture frame-by-frame\n",
    "    ret, frame = video_capture.read()\n",
    "    gray = cv2.cvtColor(frame, cv2.COLOR_BGR2GRAY)\n",
    "\n",
    "    faces = faceCascade.detectMultiScale(\n",
    "        gray,\n",
    "        scaleFactor=1.1,\n",
    "        minNeighbors=5,\n",
    "        minSize=(30, 30),\n",
    "    )\n",
    "\n",
    "    # Draw a rectangle around the faces\n",
    "    for (x, y, w, h) in faces:\n",
    "        cv2.rectangle(frame, (x, y), (x+w, y+h), (0, 255, 0), 2)\n",
    "\n",
    "    # Display the resulting frame\n",
    "    cv2.imshow('Video', frame)\n",
    "\n",
    "    if cv2.waitKey(1) & 0xFF == ord('q'):\n",
    "        break\n",
    "\n",
    "# When everything is done, release the capture\n",
    "video_capture.release()\n",
    "cv2.destroyAllWindows()\n",
    "\n"
   ]
  },
  {
   "cell_type": "code",
   "execution_count": 106,
   "metadata": {},
   "outputs": [],
   "source": [
    "import cv2\n",
    "\n",
    "src = cv2.imread(\"trump.jpg\", cv2.IMREAD_COLOR)\n",
    "a=200\n",
    "dst = src.copy() \n",
    "dst = src[0:a, 0:a]\n",
    "\n",
    "cv2.imshow(\"src\", src)\n",
    "cv2.imshow(\"dst\", dst)\n",
    "cv2.waitKey(0)\n",
    "cv2.destroyAllWindows()"
   ]
  },
  {
   "cell_type": "code",
   "execution_count": 15,
   "metadata": {},
   "outputs": [],
   "source": [
    "import cv2\n",
    "\n",
    "src = cv2.imread(\"trump.jpg\", cv2.IMREAD_COLOR)\n",
    "\n",
    "dst = src.copy() \n",
    "roi = src[100:600, 200:700]\n",
    "dst[100:600, 100:600] = roi\n",
    "\n",
    "cv2.imshow(\"src\", src)\n",
    "cv2.imshow(\"dst\", dst)\n",
    "cv2.waitKey(0)\n",
    "cv2.destroyAllWindows()\n"
   ]
  },
  {
   "cell_type": "code",
   "execution_count": 32,
   "metadata": {},
   "outputs": [
    {
     "name": "stdout",
     "output_type": "stream",
     "text": [
      "[1, 2, 3, 4, 5]\n",
      "[1 2 3 4 5]\n",
      "[1 3 5]\n",
      "[1, 2, 3, 4, 5]\n"
     ]
    }
   ],
   "source": [
    "import numpy as np\n",
    "\n",
    "a = [1, 2, 3, 4, 5]\n",
    "b = np.array(a)\n",
    "c = np.array([1, 3, 5])\n",
    "d = a\n",
    "\n",
    "print(a)\n",
    "print(b)\n",
    "print(c)\n",
    "print(d)"
   ]
  },
  {
   "cell_type": "code",
   "execution_count": 31,
   "metadata": {},
   "outputs": [
    {
     "name": "stdout",
     "output_type": "stream",
     "text": [
      "3\n",
      "4\n",
      "[3 5]\n"
     ]
    }
   ],
   "source": [
    "import numpy as np\n",
    "\n",
    "a = [1, 2, 3, 4, 5]\n",
    "b = np.array(a)\n",
    "c = np.array([1, 3, 5])\n",
    "\n",
    "print(b[2])\n",
    "print(a[-2])\n",
    "print(c[1:3])"
   ]
  },
  {
   "cell_type": "code",
   "execution_count": 34,
   "metadata": {},
   "outputs": [
    {
     "name": "stdout",
     "output_type": "stream",
     "text": [
      "일\n",
      "이\n",
      "삼\n",
      "1\n",
      "2\n",
      "3\n",
      "윤\n",
      "대\n",
      "희\n",
      "45\n"
     ]
    }
   ],
   "source": [
    "L = [\"일\",\"이\",\"삼\"]\n",
    "T = (1, 2, 3)\n",
    "S = \"윤대희\"\n",
    "total = 0\n",
    "\n",
    "for i in L:\n",
    "    print(i)\n",
    "\n",
    "for i in T:\n",
    "    print(i)\n",
    "\n",
    "for i in S:\n",
    "    print(i)\n",
    "\n",
    "for i in range(1,10):\n",
    "    total = total + i\n",
    "print (total)"
   ]
  },
  {
   "cell_type": "code",
   "execution_count": 52,
   "metadata": {},
   "outputs": [
    {
     "name": "stdout",
     "output_type": "stream",
     "text": [
      "[0, 1, 2, 3, 4, 5, 6, 7, 8, 9]\n"
     ]
    }
   ],
   "source": [
    "import numpy as np\n",
    "a=[]\n",
    "for i in range(10):\n",
    "    a.append(i)\n",
    "print(a)\n"
   ]
  },
  {
   "cell_type": "code",
   "execution_count": 119,
   "metadata": {},
   "outputs": [
    {
     "name": "stdout",
     "output_type": "stream",
     "text": [
      "(100, 100, 3)\n",
      "(100, 100, 3)\n",
      "(100, 100, 3)\n",
      "(100, 100, 3)\n",
      "(5, 100, 3)\n",
      "15\n"
     ]
    }
   ],
   "source": [
    "import cv2\n",
    "import numpy as np\n",
    "\n",
    "src = cv2.imread(\"trump.jpg\", cv2.IMREAD_COLOR)\n",
    "#img1= cv2.resize(src,(200,200))\n",
    "\n",
    "a=0\n",
    "b=0\n",
    "c=[]\n",
    "n=1\n",
    "dst = src.copy() \n",
    "for i in range(3):\n",
    "    #print(a,\":::\")\n",
    "\n",
    "    for j in range(5):\n",
    "        #print(b)\n",
    "        c.append(dst[b:b+100,a:a+100]) #0:100, 0:100 -> 100:200, 0:100 -> 200:300, 0:100\n",
    "                                       #0:100, 100:200 -> 100:200, 100:200 -> 200:300, \n",
    "        b=b+100\n",
    "        n=n+1\n",
    "    \n",
    "    a=a+100\n",
    "    b=0\n",
    "    #print(\":\")\n",
    "\n",
    "print(c[0].shape)\n",
    "print(c[1].shape)\n",
    "print(c[2].shape)\n",
    "print(c[3].shape)\n",
    "print(c[4].shape)\n",
    "print(len(c))\n",
    "img2=cv2.hconcat([c[0],c[1],c[2],c[3])\n",
    "\n",
    "cv2.imshow('showimg',img2)\n",
    "cv2.waitKey(0)\n",
    "cv2.destroyAllWindows()"
   ]
  },
  {
   "cell_type": "code",
   "execution_count": 16,
   "metadata": {},
   "outputs": [
    {
     "name": "stdout",
     "output_type": "stream",
     "text": [
      "width:{}pixels 720\n",
      "height:{}piexels 405\n",
      "channels:{} 3\n"
     ]
    },
    {
     "data": {
      "text/plain": [
       "-1"
      ]
     },
     "execution_count": 16,
     "metadata": {},
     "output_type": "execute_result"
    }
   ],
   "source": [
    "import cv2\n",
    "import argparse\n",
    "\n",
    "\"\"\"\n",
    "ap=argparse.ArgumentParser()\n",
    "ap.add_argument(\"-i\", \"--image\", required=True, help=\"path to the image\")\n",
    "args=vars(ap.parse_args())\n",
    "\"\"\"\n",
    "\n",
    "#이미지 경로\n",
    "image=cv2.imread(\"trump.jpg\") #배열로 구성, (세로, 가로, 채널)\n",
    "\n",
    "#이미지 정보 출력\n",
    "print(\"width:{}pixels\",format(image.shape[1])) #이미지의 가로\n",
    "print(\"height:{}piexels\",format(image.shape[0])) #이미지의 세로\n",
    "print(\"channels:{}\",format(image.shape[2]))\n",
    "\n",
    "\n",
    "#이미지 저장\n",
    "cv2.imwrite(\"newimage.jpg\",image)\n",
    "\n",
    "#이미지 자르기\n",
    "cut=image[0:100, 0:100] #높이, 너비\n",
    "#이미지 보여주기\n",
    "cv2.imshow(\"corona\", cut)\n",
    "cv2.waitKey(0)"
   ]
  },
  {
   "cell_type": "code",
   "execution_count": 1,
   "metadata": {},
   "outputs": [
    {
     "name": "stdout",
     "output_type": "stream",
     "text": [
      "[24  3  5]\n",
      "[24  3  5]\n"
     ]
    },
    {
     "data": {
      "text/plain": [
       "-1"
      ]
     },
     "execution_count": 1,
     "metadata": {},
     "output_type": "execute_result"
    }
   ],
   "source": [
    "import cv2\n",
    "import argparse\n",
    "\n",
    "image=cv2.imread(\"trump.jpg\")\n",
    "#cv2.imshow(\"preimage\", image)\n",
    "\n",
    "b=100;\n",
    "\n",
    "#image의 RGB값 받기(opencv는 BGR순서)\n",
    "a=image[0,0]\n",
    "print(a)\n",
    "#print(\"Pixel at (0,0) -red:{},Green:{}, Blue: {}\", format(r,g,b))\n",
    "print(format(a))\n",
    "\n",
    "corner=image[0:100, 0:100]\n",
    "cv2.imshow(\"Corner\", corner)\n",
    "\n",
    "image[0:b, 0:b]=(0,255,0)\n",
    "\n",
    "cv2.imshow(\"Udated\", image)\n",
    "cv2.waitKey(0)"
   ]
  },
  {
   "cell_type": "code",
   "execution_count": 2,
   "metadata": {},
   "outputs": [
    {
     "data": {
      "text/plain": [
       "-1"
      ]
     },
     "execution_count": 2,
     "metadata": {},
     "output_type": "execute_result"
    }
   ],
   "source": [
    "import cv2\n",
    "import numpy as np\n",
    "\n",
    "canvas=np.zeros((300,300,3), dtype=\"uint8\")\n",
    "\n",
    "image=cv2.imread(\"trump.jpg\")\n",
    "\n",
    "green=(0,255,0)\n",
    "cv2.line(canvas,(0,0),(300,300),green)\n",
    "cv2.imshow(\"canvas\",canvas)\n",
    "cv2.waitKey(0)\n",
    "\n",
    "cv2.rectangle(image, (50,200),(300,300),green,5)\n",
    "cv2.imshow(\"canvas\",image)\n",
    "cv2.waitKey(0)\n"
   ]
  },
  {
   "cell_type": "code",
   "execution_count": 7,
   "metadata": {},
   "outputs": [],
   "source": [
    "import numpy as np\n",
    "import cv2\n",
    "\n",
    "canvas=np.zeros((300,300,3), dtype=\"uint8\")\n",
    "(centerX, centerY)=(canvas.shape[1]//2, canvas.shape[0]//2)\n",
    "white=(255,255,255)\n",
    "\n",
    "for r in range(0,175,25):#0~174까지 +25해가며 배열만듦.\n",
    "    cv2.circle(canvas,(centerX, centerY), r, white)\n",
    "    \n",
    "cv2.imshow(\"Canvas\", canvas)\n",
    "cv2.waitKey(0)\n",
    "\n",
    "for i in range(0,25):\n",
    "    radius=np.random.randint(5,high=200)\n",
    "    color=np.random.randint(0,high=256, size=(3,)).tolist()\n",
    "    pt=np.random.randint(0,high=300, size=(2,))\n",
    "    cv2.circle(canvas, tuple(pt), radius, color, -1)\n",
    "    \n",
    "    cv2.imshow(\"Canvas\", canvas)\n",
    "    cv2.waitKey(0)\n",
    "\n"
   ]
  },
  {
   "cell_type": "code",
   "execution_count": 80,
   "metadata": {},
   "outputs": [
    {
     "name": "stdout",
     "output_type": "stream",
     "text": [
      "가로= 720   세로= 405   채널= 3\n",
      "5등분 하면 가로/세로= 144 81\n",
      "(25, 81, 144, 3)\n"
     ]
    },
    {
     "data": {
      "text/plain": [
       "-1"
      ]
     },
     "execution_count": 80,
     "metadata": {},
     "output_type": "execute_result"
    }
   ],
   "source": [
    "import cv2\n",
    "import numpy as np\n",
    "\n",
    "#이미지 경로\n",
    "image=cv2.imread(\"trump.jpg\") #배열로 구성, (세로, 가로, 채널)\n",
    "\n",
    "#이미지 정보 출력\n",
    "wsize=image.shape[1]\n",
    "hsize=image.shape[0]\n",
    "print(\"가로=\",wsize,\" \",\"세로=\",hsize,\" \", \"채널=\",image.shape[2])\n",
    "\n",
    "#5등분 했을때 크기\n",
    "divwsize=wsize//5\n",
    "divhsize=hsize//5\n",
    "\n",
    "print(\"5등분 하면 가로/세로=\",divwsize, divhsize)\n",
    "\n",
    "green=(0,255,0)\n",
    "aimg=[]\n",
    "for i in range(0,hsize,divhsize):\n",
    "    for j in range(0,wsize,divwsize):  \n",
    "        aimg.append(image[i:i+divhsize, j:j+divwsize])\n",
    "        \n",
    "    \n",
    "    \n",
    "print(np.shape(aimg))\n",
    "\n",
    "#---------------------------\n",
    "image2=cv2.hconcat([aimg[0],aimg[1],aimg[2],aimg[3],aimg[4]])\n",
    "\n",
    "\n",
    "cv2.imshow(\"zzazan\",image2)\n",
    "cv2.waitKey(0)\n",
    "       "
   ]
  },
  {
   "cell_type": "code",
   "execution_count": 66,
   "metadata": {},
   "outputs": [
    {
     "name": "stdout",
     "output_type": "stream",
     "text": [
      "[0, 1, 0, 1]\n",
      "[ 0  1  2  3  4  5  6  7  8  9 10 11 12 13 14 15]\n",
      "[[ 0  1  2  3]\n",
      " [ 4  5  6  7]\n",
      " [ 8  9 10 11]\n",
      " [12 13 14 15]]\n"
     ]
    }
   ],
   "source": [
    "import numpy as np\n",
    "\n",
    "j=0;\n",
    "k=0;\n",
    "a=[];\n",
    "for i in range(0,2):\n",
    "    for j in range(0,2):\n",
    "        a.append(j)\n",
    "    \n",
    "print(a)\n",
    "\n",
    "b=[];\n",
    "b=np.arange(16)\n",
    "print(b)\n",
    "print(b.reshape(-1,4))\n",
    "\n",
    "\n",
    "\n"
   ]
  },
  {
   "cell_type": "code",
   "execution_count": 29,
   "metadata": {},
   "outputs": [
    {
     "name": "stdout",
     "output_type": "stream",
     "text": [
      "0\n",
      "1\n",
      "2\n",
      "3\n",
      "4\n",
      "5\n",
      "6\n",
      "7\n",
      "8\n",
      "9\n"
     ]
    }
   ],
   "source": [
    "j=0;\n",
    "k=0;\n",
    "a=[];\n",
    "for i in range(0,10,1):\n",
    "    print(i)\n",
    "  "
   ]
  },
  {
   "cell_type": "code",
   "execution_count": 25,
   "metadata": {},
   "outputs": [
    {
     "name": "stdout",
     "output_type": "stream",
     "text": [
      "내 이름은 홍딜동이고, 나이는 20 입니다.\n",
      "숫자 채우기:999\n"
     ]
    }
   ],
   "source": [
    "print(\"내 이름은 %s이고, 나이는 %d 입니다.\" %(\"홍딜동\", 20))\n",
    "print(\"숫자 채우기:{}\".format(999))"
   ]
  }
 ],
 "metadata": {
  "kernelspec": {
   "display_name": "Python 3",
   "language": "python",
   "name": "python3"
  },
  "language_info": {
   "codemirror_mode": {
    "name": "ipython",
    "version": 3
   },
   "file_extension": ".py",
   "mimetype": "text/x-python",
   "name": "python",
   "nbconvert_exporter": "python",
   "pygments_lexer": "ipython3",
   "version": "3.7.6"
  }
 },
 "nbformat": 4,
 "nbformat_minor": 4
}
